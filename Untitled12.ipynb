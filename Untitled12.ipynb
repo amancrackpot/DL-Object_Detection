{
  "nbformat": 4,
  "nbformat_minor": 0,
  "metadata": {
    "colab": {
      "name": "Untitled12.ipynb",
      "provenance": []
    },
    "kernelspec": {
      "name": "python3",
      "display_name": "Python 3"
    },
    "language_info": {
      "name": "python"
    },
    "widgets": {
      "application/vnd.jupyter.widget-state+json": {
        "555f29c24ab749509ae9a05a9d2c1385": {
          "model_module": "@jupyter-widgets/controls",
          "model_name": "VBoxModel",
          "state": {
            "_view_name": "VBoxView",
            "_dom_classes": [],
            "_model_name": "VBoxModel",
            "_view_module": "@jupyter-widgets/controls",
            "_model_module_version": "1.5.0",
            "_view_count": null,
            "_view_module_version": "1.5.0",
            "box_style": "",
            "layout": "IPY_MODEL_e37f13d23b564844a194c1d76b707866",
            "_model_module": "@jupyter-widgets/controls",
            "children": [
              "IPY_MODEL_41e8dcaff68c4213bc67a314b5e6d9d5",
              "IPY_MODEL_b370b8da1c814ef4a19244e4b9591557",
              "IPY_MODEL_9e2b016b04dd407fae0ee5b728bfab02",
              "IPY_MODEL_a66a793ee5644ab5b13b72fdc8bad1e8"
            ]
          }
        },
        "e37f13d23b564844a194c1d76b707866": {
          "model_module": "@jupyter-widgets/base",
          "model_name": "LayoutModel",
          "state": {
            "_view_name": "LayoutView",
            "grid_template_rows": null,
            "right": null,
            "justify_content": null,
            "_view_module": "@jupyter-widgets/base",
            "overflow": null,
            "_model_module_version": "1.2.0",
            "_view_count": null,
            "flex_flow": null,
            "width": null,
            "min_width": null,
            "border": null,
            "align_items": null,
            "bottom": null,
            "_model_module": "@jupyter-widgets/base",
            "top": null,
            "grid_column": null,
            "overflow_y": null,
            "overflow_x": null,
            "grid_auto_flow": null,
            "grid_area": null,
            "grid_template_columns": null,
            "flex": null,
            "_model_name": "LayoutModel",
            "justify_items": null,
            "grid_row": null,
            "max_height": null,
            "align_content": null,
            "visibility": null,
            "align_self": null,
            "height": null,
            "min_height": null,
            "padding": null,
            "grid_auto_rows": null,
            "grid_gap": null,
            "max_width": null,
            "order": null,
            "_view_module_version": "1.2.0",
            "grid_template_areas": null,
            "object_position": null,
            "object_fit": null,
            "grid_auto_columns": null,
            "margin": null,
            "display": null,
            "left": null
          }
        },
        "41e8dcaff68c4213bc67a314b5e6d9d5": {
          "model_module": "@jupyter-widgets/controls",
          "model_name": "LabelModel",
          "state": {
            "_view_name": "LabelView",
            "style": "IPY_MODEL_9c80fd2da8c244618cec1b7d4ae782d5",
            "_dom_classes": [],
            "description": "",
            "_model_name": "LabelModel",
            "placeholder": "​",
            "_view_module": "@jupyter-widgets/controls",
            "_model_module_version": "1.5.0",
            "value": "Select a photo!",
            "_view_count": null,
            "_view_module_version": "1.5.0",
            "description_tooltip": null,
            "_model_module": "@jupyter-widgets/controls",
            "layout": "IPY_MODEL_aa19a7614d694612a99fa56c485d3c3d"
          }
        },
        "b370b8da1c814ef4a19244e4b9591557": {
          "model_module": "@jupyter-widgets/controls",
          "model_name": "FileUploadModel",
          "state": {
            "_view_name": "FileUploadView",
            "_counter": 1,
            "style": "IPY_MODEL_f64923a61cd14df69201bd0f8542d3b5",
            "_dom_classes": [],
            "description": "Upload",
            "multiple": false,
            "_model_name": "FileUploadModel",
            "data": [
              null
            ],
            "button_style": "",
            "_view_module": "@jupyter-widgets/controls",
            "_model_module_version": "1.5.0",
            "accept": "",
            "_view_count": null,
            "disabled": false,
            "_view_module_version": "1.5.0",
            "error": "",
            "description_tooltip": null,
            "metadata": [
              {
                "name": "1200px-Cologne_Germany_Industrial-work-with-Personal-Protective-Equipment-04.jpg",
                "type": "image/jpeg",
                "size": 199362,
                "lastModified": 1622808010113
              }
            ],
            "_model_module": "@jupyter-widgets/controls",
            "layout": "IPY_MODEL_72944846f0894cb0a774868ecfe69c2e",
            "icon": "upload"
          }
        },
        "9e2b016b04dd407fae0ee5b728bfab02": {
          "model_module": "@jupyter-widgets/output",
          "model_name": "OutputModel",
          "state": {
            "_view_name": "OutputView",
            "msg_id": "",
            "_dom_classes": [],
            "_model_name": "OutputModel",
            "outputs": [
              {
                "output_type": "display_data",
                "metadata": {
                  "tags": []
                },
                "image/png": "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\n",
                "text/plain": "<PIL.Image.Image image mode=RGB size=128x94 at 0x7FB0FB5BF9D0>"
              }
            ],
            "_view_module": "@jupyter-widgets/output",
            "_model_module_version": "1.0.0",
            "_view_count": null,
            "_view_module_version": "1.0.0",
            "layout": "IPY_MODEL_d2e6e128e7334a5f96547b66aff05327",
            "_model_module": "@jupyter-widgets/output"
          }
        },
        "a66a793ee5644ab5b13b72fdc8bad1e8": {
          "model_module": "@jupyter-widgets/controls",
          "model_name": "ImageModel",
          "state": {
            "_view_name": "ImageView",
            "_dom_classes": [],
            "_model_name": "ImageModel",
            "format": "png",
            "_view_module": "@jupyter-widgets/controls",
            "_model_module_version": "1.5.0",
            "_view_count": null,
            "width": "",
            "_view_module_version": "1.5.0",
            "layout": "IPY_MODEL_14fd3966bd314e8d8b6bd99cffe0f175",
            "height": "",
            "_model_module": "@jupyter-widgets/controls"
          }
        },
        "9c80fd2da8c244618cec1b7d4ae782d5": {
          "model_module": "@jupyter-widgets/controls",
          "model_name": "DescriptionStyleModel",
          "state": {
            "_view_name": "StyleView",
            "_model_name": "DescriptionStyleModel",
            "description_width": "",
            "_view_module": "@jupyter-widgets/base",
            "_model_module_version": "1.5.0",
            "_view_count": null,
            "_view_module_version": "1.2.0",
            "_model_module": "@jupyter-widgets/controls"
          }
        },
        "aa19a7614d694612a99fa56c485d3c3d": {
          "model_module": "@jupyter-widgets/base",
          "model_name": "LayoutModel",
          "state": {
            "_view_name": "LayoutView",
            "grid_template_rows": null,
            "right": null,
            "justify_content": null,
            "_view_module": "@jupyter-widgets/base",
            "overflow": null,
            "_model_module_version": "1.2.0",
            "_view_count": null,
            "flex_flow": null,
            "width": null,
            "min_width": null,
            "border": null,
            "align_items": null,
            "bottom": null,
            "_model_module": "@jupyter-widgets/base",
            "top": null,
            "grid_column": null,
            "overflow_y": null,
            "overflow_x": null,
            "grid_auto_flow": null,
            "grid_area": null,
            "grid_template_columns": null,
            "flex": null,
            "_model_name": "LayoutModel",
            "justify_items": null,
            "grid_row": null,
            "max_height": null,
            "align_content": null,
            "visibility": null,
            "align_self": null,
            "height": null,
            "min_height": null,
            "padding": null,
            "grid_auto_rows": null,
            "grid_gap": null,
            "max_width": null,
            "order": null,
            "_view_module_version": "1.2.0",
            "grid_template_areas": null,
            "object_position": null,
            "object_fit": null,
            "grid_auto_columns": null,
            "margin": null,
            "display": null,
            "left": null
          }
        },
        "f64923a61cd14df69201bd0f8542d3b5": {
          "model_module": "@jupyter-widgets/controls",
          "model_name": "ButtonStyleModel",
          "state": {
            "_view_name": "StyleView",
            "_model_name": "ButtonStyleModel",
            "_view_module": "@jupyter-widgets/base",
            "_model_module_version": "1.5.0",
            "_view_count": null,
            "button_color": null,
            "font_weight": "",
            "_view_module_version": "1.2.0",
            "_model_module": "@jupyter-widgets/controls"
          }
        },
        "72944846f0894cb0a774868ecfe69c2e": {
          "model_module": "@jupyter-widgets/base",
          "model_name": "LayoutModel",
          "state": {
            "_view_name": "LayoutView",
            "grid_template_rows": null,
            "right": null,
            "justify_content": null,
            "_view_module": "@jupyter-widgets/base",
            "overflow": null,
            "_model_module_version": "1.2.0",
            "_view_count": null,
            "flex_flow": null,
            "width": null,
            "min_width": null,
            "border": null,
            "align_items": null,
            "bottom": null,
            "_model_module": "@jupyter-widgets/base",
            "top": null,
            "grid_column": null,
            "overflow_y": null,
            "overflow_x": null,
            "grid_auto_flow": null,
            "grid_area": null,
            "grid_template_columns": null,
            "flex": null,
            "_model_name": "LayoutModel",
            "justify_items": null,
            "grid_row": null,
            "max_height": null,
            "align_content": null,
            "visibility": null,
            "align_self": null,
            "height": null,
            "min_height": null,
            "padding": null,
            "grid_auto_rows": null,
            "grid_gap": null,
            "max_width": null,
            "order": null,
            "_view_module_version": "1.2.0",
            "grid_template_areas": null,
            "object_position": null,
            "object_fit": null,
            "grid_auto_columns": null,
            "margin": null,
            "display": null,
            "left": null
          }
        },
        "14fd3966bd314e8d8b6bd99cffe0f175": {
          "model_module": "@jupyter-widgets/base",
          "model_name": "LayoutModel",
          "state": {
            "_view_name": "LayoutView",
            "grid_template_rows": null,
            "right": null,
            "justify_content": null,
            "_view_module": "@jupyter-widgets/base",
            "overflow": null,
            "_model_module_version": "1.2.0",
            "_view_count": null,
            "flex_flow": null,
            "width": null,
            "min_width": null,
            "border": null,
            "align_items": null,
            "bottom": null,
            "_model_module": "@jupyter-widgets/base",
            "top": null,
            "grid_column": null,
            "overflow_y": null,
            "overflow_x": null,
            "grid_auto_flow": null,
            "grid_area": null,
            "grid_template_columns": null,
            "flex": null,
            "_model_name": "LayoutModel",
            "justify_items": null,
            "grid_row": null,
            "max_height": null,
            "align_content": null,
            "visibility": null,
            "align_self": null,
            "height": null,
            "min_height": null,
            "padding": null,
            "grid_auto_rows": null,
            "grid_gap": null,
            "max_width": null,
            "order": null,
            "_view_module_version": "1.2.0",
            "grid_template_areas": null,
            "object_position": null,
            "object_fit": null,
            "grid_auto_columns": null,
            "margin": null,
            "display": null,
            "left": null
          }
        },
        "d2e6e128e7334a5f96547b66aff05327": {
          "model_module": "@jupyter-widgets/base",
          "model_name": "LayoutModel",
          "state": {
            "_view_name": "LayoutView",
            "grid_template_rows": null,
            "right": null,
            "justify_content": null,
            "_view_module": "@jupyter-widgets/base",
            "overflow": null,
            "_model_module_version": "1.2.0",
            "_view_count": null,
            "flex_flow": null,
            "width": null,
            "min_width": null,
            "border": null,
            "align_items": null,
            "bottom": null,
            "_model_module": "@jupyter-widgets/base",
            "top": null,
            "grid_column": null,
            "overflow_y": null,
            "overflow_x": null,
            "grid_auto_flow": null,
            "grid_area": null,
            "grid_template_columns": null,
            "flex": null,
            "_model_name": "LayoutModel",
            "justify_items": null,
            "grid_row": null,
            "max_height": null,
            "align_content": null,
            "visibility": null,
            "align_self": null,
            "height": null,
            "min_height": null,
            "padding": null,
            "grid_auto_rows": null,
            "grid_gap": null,
            "max_width": null,
            "order": null,
            "_view_module_version": "1.2.0",
            "grid_template_areas": null,
            "object_position": null,
            "object_fit": null,
            "grid_auto_columns": null,
            "margin": null,
            "display": null,
            "left": null
          }
        }
      }
    }
  },
  "cells": [
    {
      "cell_type": "code",
      "metadata": {
        "id": "BHJFExDSv7ZJ"
      },
      "source": [
        "from fastai.vision.all import *\n",
        "from fastai.vision.widgets import *"
      ],
      "execution_count": 45,
      "outputs": []
    },
    {
      "cell_type": "code",
      "metadata": {
        "id": "n1vnJrPsLaaN"
      },
      "source": [
        "import torch"
      ],
      "execution_count": 46,
      "outputs": []
    },
    {
      "cell_type": "code",
      "metadata": {
        "colab": {
          "base_uri": "https://localhost:8080/"
        },
        "id": "QHIikfLjwCZ6",
        "outputId": "52bb7c11-d6a7-43da-9818-befc39e6b902"
      },
      "source": [
        "model = torch.hub.load('ultralytics/yolov5', 'custom', path='best.pt',force_reload=True)\n",
        "model.conf=0.4"
      ],
      "execution_count": 49,
      "outputs": [
        {
          "output_type": "stream",
          "text": [
            "Downloading: \"https://github.com/ultralytics/yolov5/archive/master.zip\" to /root/.cache/torch/hub/master.zip\n"
          ],
          "name": "stderr"
        },
        {
          "output_type": "stream",
          "text": [
            "\u001b[31m\u001b[1mrequirements:\u001b[0m PyYAML>=5.3.1 not found and is required by YOLOv5, attempting auto-update...\n"
          ],
          "name": "stdout"
        },
        {
          "output_type": "stream",
          "text": [
            "Fusing layers... \n"
          ],
          "name": "stderr"
        },
        {
          "output_type": "stream",
          "text": [
            "Requirement already satisfied: PyYAML>=5.3.1 in /usr/local/lib/python3.7/dist-packages (5.4.1)\n",
            "\n",
            "\u001b[31m\u001b[1mrequirements:\u001b[0m 1 package updated per /root/.cache/torch/hub/ultralytics_yolov5_master/requirements.txt\n",
            "\u001b[31m\u001b[1mrequirements:\u001b[0m ⚠️ \u001b[1mRestart runtime or rerun command for updates to take effect\u001b[0m\n",
            "\n"
          ],
          "name": "stdout"
        },
        {
          "output_type": "stream",
          "text": [
            "Model Summary: 232 layers, 7251912 parameters, 0 gradients\n",
            "Adding AutoShape... \n",
            "YOLOv5 🚀 2021-6-4 torch 1.8.1+cu101 CPU\n",
            "\n"
          ],
          "name": "stderr"
        }
      ]
    },
    {
      "cell_type": "code",
      "metadata": {
        "id": "U-ybSYYoMS3k"
      },
      "source": [
        "btn_upload = widgets.FileUpload()\n",
        "out_pl = widgets.Output()\n",
        "lbl_pred = widgets.Image()\n",
        "\n",
        "from io import BytesIO"
      ],
      "execution_count": 92,
      "outputs": []
    },
    {
      "cell_type": "code",
      "metadata": {
        "id": "EBFFUqPAwkJz"
      },
      "source": [
        "def on_click(change):\n",
        "    img = PILImage.create(btn_upload.data[-1])\n",
        "    out_pl.clear_output()\n",
        "    with out_pl: display(img.to_thumb(128,128))\n",
        "    results = model(img, size=416)\n",
        "    results.render()\n",
        "    for img in results.imgs:\n",
        "      buffered = BytesIO()\n",
        "      img_base64 = Image.fromarray(img)\n",
        "      img_base64.save(buffered, format=\"JPEG\")\n",
        "      lbl_pred.value = buffered.getvalue()"
      ],
      "execution_count": 93,
      "outputs": []
    },
    {
      "cell_type": "code",
      "metadata": {
        "id": "CFfHwRbxPfoV"
      },
      "source": [
        ""
      ],
      "execution_count": 93,
      "outputs": []
    },
    {
      "cell_type": "code",
      "metadata": {
        "id": "qofmn6j2Cei4"
      },
      "source": [
        "btn_upload.observe(on_click, names=['data'])"
      ],
      "execution_count": 94,
      "outputs": []
    },
    {
      "cell_type": "code",
      "metadata": {
        "colab": {
          "base_uri": "https://localhost:8080/",
          "height": 993,
          "referenced_widgets": [
            "555f29c24ab749509ae9a05a9d2c1385",
            "e37f13d23b564844a194c1d76b707866",
            "41e8dcaff68c4213bc67a314b5e6d9d5",
            "b370b8da1c814ef4a19244e4b9591557",
            "9e2b016b04dd407fae0ee5b728bfab02",
            "a66a793ee5644ab5b13b72fdc8bad1e8",
            "9c80fd2da8c244618cec1b7d4ae782d5",
            "aa19a7614d694612a99fa56c485d3c3d",
            "f64923a61cd14df69201bd0f8542d3b5",
            "72944846f0894cb0a774868ecfe69c2e",
            "14fd3966bd314e8d8b6bd99cffe0f175",
            "d2e6e128e7334a5f96547b66aff05327"
          ]
        },
        "id": "CECxtUBfClt-",
        "outputId": "371c1c7e-085d-4b6d-c12d-a363f6a463fb"
      },
      "source": [
        "display(VBox([widgets.Label('Select a photo!'), btn_upload, out_pl, lbl_pred]))"
      ],
      "execution_count": 95,
      "outputs": [
        {
          "output_type": "display_data",
          "data": {
            "application/vnd.jupyter.widget-view+json": {
              "model_id": "555f29c24ab749509ae9a05a9d2c1385",
              "version_minor": 0,
              "version_major": 2
            },
            "text/plain": [
              "VBox(children=(Label(value='Select a photo!'), FileUpload(value={}, description='Upload'), Output(), Image(val…"
            ]
          },
          "metadata": {
            "tags": []
          }
        }
      ]
    },
    {
      "cell_type": "code",
      "metadata": {
        "id": "iaOeTcQiwoKG"
      },
      "source": [
        ""
      ],
      "execution_count": null,
      "outputs": []
    },
    {
      "cell_type": "code",
      "metadata": {
        "id": "_OYHneo1-WBu"
      },
      "source": [
        "#model."
      ],
      "execution_count": null,
      "outputs": []
    }
  ]
}
